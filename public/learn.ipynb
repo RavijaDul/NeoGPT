{
 "cells": [
  {
   "cell_type": "markdown",
   "metadata": {},
   "source": [
    "https://reactrouter.com/    here we can get the \"react-router-dom\"\n",
    "\n",
    "So instead of using app.js , in the main.jsx  routing can be done.\n",
    "\n"
   ]
  },
  {
   "cell_type": "code",
   "execution_count": null,
   "metadata": {},
   "outputs": [],
   "source": [
    "import * as React from \"react\";\n",
    "import { createRoot } from \"react-dom/client\";\n",
    "import {\n",
    "  createBrowserRouter,\n",
    "  RouterProvider,\n",
    "  Route,\n",
    "  Link,\n",
    "} from \"react-router-dom\";\n",
    "\n",
    "const router = createBrowserRouter([\n",
    "  {\n",
    "    path: \"/\",\n",
    "    element: (\n",
    "      <div>\n",
    "        <h1>Hello World</h1>\n",
    "        <Link to=\"about\">About Us</Link>\n",
    "      </div>\n",
    "    ),\n",
    "  },\n",
    "  {\n",
    "    path: \"about\",\n",
    "    element: <div>About</div>,\n",
    "  },\n",
    "]);\n",
    "\n",
    "createRoot(document.getElementById(\"root\")).render(\n",
    "  <RouterProvider router={router} />\n",
    ");"
   ]
  },
  {
   "cell_type": "markdown",
   "metadata": {},
   "source": [
    "RootLayout.jsx is used to keep steady things and <outlets/> for dynamic content"
   ]
  },
  {
   "cell_type": "code",
   "execution_count": null,
   "metadata": {},
   "outputs": [],
   "source": [
    "import { Link,Outlet } from 'react-router-dom';\n",
    "import './rootLayout.css';\n",
    "\n",
    "const RootLayout = () => {\n",
    "    return(\n",
    "        <div className='rootLayout'>\n",
    "            <header>\n",
    "                <Link to =\"/\">\n",
    "                    <img src=\"/logo.png\" alt=\"\" />\n",
    "                    <span>NEOGPT AI</span>\n",
    "                </Link>\n",
    "            </header>\n",
    "            <main>\n",
    "                <Outlet/>  \n",
    "            </main>\n",
    "        </div>\n",
    "    )\n",
    "}\n",
    "\n",
    "export default RootLayout\n",
    "\n",
    "\n"
   ]
  },
  {
   "cell_type": "markdown",
   "metadata": {},
   "source": []
  }
 ],
 "metadata": {
  "kernelspec": {
   "display_name": "Python 3",
   "language": "python",
   "name": "python3"
  },
  "language_info": {
   "name": "python",
   "version": "3.11.3"
  }
 },
 "nbformat": 4,
 "nbformat_minor": 2
}
